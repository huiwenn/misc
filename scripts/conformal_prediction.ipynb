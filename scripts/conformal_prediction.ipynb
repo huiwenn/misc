{
 "cells": [
  {
   "cell_type": "code",
   "execution_count": null,
   "id": "b070b956",
   "metadata": {},
   "outputs": [],
   "source": [
    "import time\n",
    "from typing import Any, Dict, List, Tuple, Union\n",
    "\n",
    "import argparse\n",
    "import joblib\n",
    "import tensorflow as tf\n",
    "from termcolor import cprint\n",
    "import numpy as np\n",
    "import pickle as pkl\n",
    "import torch\n",
    "import torch.nn as nn\n",
    "import torch.nn.functional as F\n",
    "import utils.baseline_utils as baseline_utils\n",
    "from lstm_train_test_det import *"
   ]
  },
  {
   "cell_type": "code",
   "execution_count": 4,
   "id": "123b1989",
   "metadata": {},
   "outputs": [],
   "source": [
    "from glob import glob"
   ]
  },
  {
   "cell_type": "code",
   "execution_count": 6,
   "id": "3a2b05e6",
   "metadata": {},
   "outputs": [
    {
     "name": "stdout",
     "output_type": "stream",
     "text": [
      "agents_train.npy\t       agents_val_rotation.npy\ttest_obs\r\n",
      "agents_train_rotation.npy      agents_val_transi.npy\ttrain\r\n",
      "agents_train_small.npy\t       argoverse-api.git\ttrain_original\r\n",
      "agents_train_small_transi.npy  features\t\t\tval\r\n",
      "agents_train_transi.npy        preprocessing.ipynb\tval_original\r\n",
      "agents_val.npy\t\t       test\r\n"
     ]
    }
   ],
   "source": [
    "!ls ../../argoverse"
   ]
  },
  {
   "cell_type": "code",
   "execution_count": 7,
   "id": "285c63a3",
   "metadata": {},
   "outputs": [],
   "source": [
    " with open('../../argoverse/agents_train_rotation.npy', 'rb') as f:\n",
    "    wholetraj = np.load(f)"
   ]
  },
  {
   "cell_type": "code",
   "execution_count": 9,
   "id": "6f6592ad",
   "metadata": {},
   "outputs": [
    {
     "data": {
      "text/plain": [
       "(205942, 50, 2)"
      ]
     },
     "execution_count": 9,
     "metadata": {},
     "output_type": "execute_result"
    }
   ],
   "source": [
    "wholetraj.shape"
   ]
  },
  {
   "cell_type": "code",
   "execution_count": 12,
   "id": "45c5aa66",
   "metadata": {},
   "outputs": [
    {
     "data": {
      "text/plain": [
       "(102971, 50, 2)"
      ]
     },
     "execution_count": 12,
     "metadata": {},
     "output_type": "execute_result"
    }
   ],
   "source": [
    "conformal_train = wholetraj[:102971]\n",
    "conformal_err = wholetraj[102971:]\n",
    "conformal_train.shape"
   ]
  },
  {
   "cell_type": "code",
   "execution_count": 13,
   "id": "31a9f0b0",
   "metadata": {},
   "outputs": [],
   "source": [
    "with open('../../argoverse/conformal_train.npy', 'wb') as f:\n",
    "    np.save(f, conformal_train)\n",
    "    \n",
    "with open('../../argoverse/conformal_err.npy', 'wb') as f:\n",
    "    np.save(f, conformal_err)"
   ]
  },
  {
   "cell_type": "code",
   "execution_count": 16,
   "id": "9d8e8d09",
   "metadata": {},
   "outputs": [],
   "source": [
    "device = 'cuda:0'"
   ]
  },
  {
   "cell_type": "code",
   "execution_count": 18,
   "id": "08514a37",
   "metadata": {},
   "outputs": [
    {
     "name": "stdout",
     "output_type": "stream",
     "text": [
      "=> no checkpoint found at ../checkpoints/lstm_argo_det/LSTM_rollout30.pth.tar\n"
     ]
    },
    {
     "ename": "UnboundLocalError",
     "evalue": "local variable 'epoch' referenced before assignment",
     "output_type": "error",
     "traceback": [
      "\u001b[0;31m---------------------------------------------------------------------------\u001b[0m",
      "\u001b[0;31mUnboundLocalError\u001b[0m                         Traceback (most recent call last)",
      "\u001b[0;32m/tmp/ipykernel_59065/3481454730.py\u001b[0m in \u001b[0;36m<module>\u001b[0;34m\u001b[0m\n\u001b[1;32m     14\u001b[0m epoch, rollout_len, _ = model_utils.load_checkpoint(\n\u001b[1;32m     15\u001b[0m             \u001b[0mmodel_path\u001b[0m\u001b[0;34m,\u001b[0m \u001b[0mencoder\u001b[0m\u001b[0;34m,\u001b[0m \u001b[0mdecoder\u001b[0m\u001b[0;34m,\u001b[0m \u001b[0mencoder_optimizer\u001b[0m\u001b[0;34m,\u001b[0m\u001b[0;34m\u001b[0m\u001b[0;34m\u001b[0m\u001b[0m\n\u001b[0;32m---> 16\u001b[0;31m             decoder_optimizer)\n\u001b[0m",
      "\u001b[0;32m~/sophiasun/pecco/P-ECCO/scripts/lstm_train_test_det.py\u001b[0m in \u001b[0;36mload_checkpoint\u001b[0;34m(self, checkpoint_file, encoder, decoder, encoder_optimizer, decoder_optimizer)\u001b[0m\n\u001b[1;32m    272\u001b[0m             \u001b[0mprint\u001b[0m\u001b[0;34m(\u001b[0m\u001b[0;34mf\"=> no checkpoint found at {checkpoint_file}\"\u001b[0m\u001b[0;34m)\u001b[0m\u001b[0;34m\u001b[0m\u001b[0;34m\u001b[0m\u001b[0m\n\u001b[1;32m    273\u001b[0m \u001b[0;34m\u001b[0m\u001b[0m\n\u001b[0;32m--> 274\u001b[0;31m         \u001b[0;32mreturn\u001b[0m \u001b[0mepoch\u001b[0m\u001b[0;34m,\u001b[0m \u001b[0mrollout_len\u001b[0m\u001b[0;34m,\u001b[0m \u001b[0mbest_loss\u001b[0m\u001b[0;34m\u001b[0m\u001b[0;34m\u001b[0m\u001b[0m\n\u001b[0m\u001b[1;32m    275\u001b[0m \u001b[0;34m\u001b[0m\u001b[0m\n\u001b[1;32m    276\u001b[0m     \u001b[0;32mdef\u001b[0m \u001b[0mmy_collate_fn\u001b[0m\u001b[0;34m(\u001b[0m\u001b[0mself\u001b[0m\u001b[0;34m,\u001b[0m \u001b[0mbatch\u001b[0m\u001b[0;34m:\u001b[0m \u001b[0mList\u001b[0m\u001b[0;34m[\u001b[0m\u001b[0mAny\u001b[0m\u001b[0;34m]\u001b[0m\u001b[0;34m)\u001b[0m \u001b[0;34m->\u001b[0m \u001b[0mList\u001b[0m\u001b[0;34m[\u001b[0m\u001b[0mAny\u001b[0m\u001b[0;34m]\u001b[0m\u001b[0;34m:\u001b[0m\u001b[0;34m\u001b[0m\u001b[0;34m\u001b[0m\u001b[0m\n",
      "\u001b[0;31mUnboundLocalError\u001b[0m: local variable 'epoch' referenced before assignment"
     ]
    }
   ],
   "source": [
    "encoder = EncoderRNN(input_size=2)\n",
    "decoder = DecoderRNN(output_size=2)\n",
    "encoder = nn.DataParallel(encoder)\n",
    "decoder = nn.DataParallel(decoder)\n",
    "encoder.to(device)\n",
    "decoder.to(device)\n",
    "\n",
    "encoder_optimizer = torch.optim.Adam(encoder.parameters())\n",
    "decoder_optimizer = torch.optim.Adam(decoder.parameters())\n",
    "\n",
    "model_utils = ModelUtils()\n",
    "\n",
    "model_path = '../checkpoints/lstm_argo_det/LSTM_rollout30.pth.tar'\n",
    "epoch, rollout_len, _ = model_utils.load_checkpoint(\n",
    "            model_path, encoder, decoder, encoder_optimizer,\n",
    "            decoder_optimizer)"
   ]
  },
  {
   "cell_type": "code",
   "execution_count": null,
   "id": "976ea8a8",
   "metadata": {},
   "outputs": [],
   "source": []
  },
  {
   "cell_type": "code",
   "execution_count": 14,
   "id": "d2cd6452",
   "metadata": {},
   "outputs": [
    {
     "name": "stdout",
     "output_type": "stream",
     "text": [
      "Fri Jan 14 01:08:37 2022       \n",
      "+-----------------------------------------------------------------------------+\n",
      "| NVIDIA-SMI 460.91.03    Driver Version: 460.91.03    CUDA Version: 11.2     |\n",
      "|-------------------------------+----------------------+----------------------+\n",
      "| GPU  Name        Persistence-M| Bus-Id        Disp.A | Volatile Uncorr. ECC |\n",
      "| Fan  Temp  Perf  Pwr:Usage/Cap|         Memory-Usage | GPU-Util  Compute M. |\n",
      "|                               |                      |               MIG M. |\n",
      "|===============================+======================+======================|\n",
      "|   0  GeForce RTX 208...  Off  | 00000000:1A:00.0 Off |                  N/A |\n",
      "| 27%   44C    P2    61W / 250W |   6363MiB / 11019MiB |      0%      Default |\n",
      "|                               |                      |                  N/A |\n",
      "+-------------------------------+----------------------+----------------------+\n",
      "|   1  GeForce RTX 208...  Off  | 00000000:1B:00.0 Off |                  N/A |\n",
      "| 22%   28C    P8     2W / 250W |   1258MiB / 11019MiB |      0%      Default |\n",
      "|                               |                      |                  N/A |\n",
      "+-------------------------------+----------------------+----------------------+\n",
      "|   2  GeForce RTX 208...  Off  | 00000000:3D:00.0 Off |                  N/A |\n",
      "| 22%   23C    P8    10W / 250W |   1388MiB / 11019MiB |      0%      Default |\n",
      "|                               |                      |                  N/A |\n",
      "+-------------------------------+----------------------+----------------------+\n",
      "|   3  GeForce RTX 208...  Off  | 00000000:3E:00.0 Off |                  N/A |\n",
      "| 23%   40C    P2    62W / 250W |   3019MiB / 11019MiB |      0%      Default |\n",
      "|                               |                      |                  N/A |\n",
      "+-------------------------------+----------------------+----------------------+\n",
      "|   4  GeForce RTX 208...  Off  | 00000000:88:00.0 Off |                  N/A |\n",
      "| 37%   63C    P2   136W / 250W |   3263MiB / 11019MiB |     89%      Default |\n",
      "|                               |                      |                  N/A |\n",
      "+-------------------------------+----------------------+----------------------+\n",
      "|   5  GeForce RTX 208...  Off  | 00000000:89:00.0 Off |                  N/A |\n",
      "| 32%   43C    P8     9W / 250W |   1324MiB / 11019MiB |      0%      Default |\n",
      "|                               |                      |                  N/A |\n",
      "+-------------------------------+----------------------+----------------------+\n",
      "|   6  GeForce RTX 208...  Off  | 00000000:B1:00.0 Off |                  N/A |\n",
      "| 31%   42C    P8    21W / 250W |   1324MiB / 11019MiB |      0%      Default |\n",
      "|                               |                      |                  N/A |\n",
      "+-------------------------------+----------------------+----------------------+\n",
      "|   7  GeForce RTX 208...  Off  | 00000000:B2:00.0 Off |                  N/A |\n",
      "| 29%   40C    P8    21W / 250W |   1324MiB / 11019MiB |      0%      Default |\n",
      "|                               |                      |                  N/A |\n",
      "+-------------------------------+----------------------+----------------------+\n",
      "                                                                               \n",
      "+-----------------------------------------------------------------------------+\n",
      "| Processes:                                                                  |\n",
      "|  GPU   GI   CI        PID   Type   Process name                  GPU Memory |\n",
      "|        ID   ID                                                   Usage      |\n",
      "|=============================================================================|\n",
      "|    0   N/A  N/A      3528      C   ...da3/envs/pecco/bin/python     1113MiB |\n",
      "|    0   N/A  N/A     54445      C   python                           2235MiB |\n",
      "|    0   N/A  N/A     79228      C   python                           1507MiB |\n",
      "|    1   N/A  N/A     35544      C   python                           1255MiB |\n",
      "|    2   N/A  N/A      3528      C   ...da3/envs/pecco/bin/python     1385MiB |\n",
      "|    3   N/A  N/A     69265      C   python                           1507MiB |\n",
      "|    4   N/A  N/A      3411      C   python                           4457MiB |\n",
      "|    4   N/A  N/A     43240      C   python                           1499MiB |\n",
      "|    5   N/A  N/A      3411      C   python                           1321MiB |\n",
      "|    6   N/A  N/A      3411      C   python                           1321MiB |\n",
      "|    7   N/A  N/A      3411      C   python                           1321MiB |\n",
      "+-----------------------------------------------------------------------------+\n"
     ]
    }
   ],
   "source": [
    "!nvidia-smi"
   ]
  },
  {
   "cell_type": "code",
   "execution_count": null,
   "id": "e348da69",
   "metadata": {},
   "outputs": [],
   "source": []
  }
 ],
 "metadata": {
  "kernelspec": {
   "display_name": "pecco",
   "language": "python",
   "name": "pecco"
  },
  "language_info": {
   "codemirror_mode": {
    "name": "ipython",
    "version": 3
   },
   "file_extension": ".py",
   "mimetype": "text/x-python",
   "name": "python",
   "nbconvert_exporter": "python",
   "pygments_lexer": "ipython3",
   "version": "3.7.11"
  }
 },
 "nbformat": 4,
 "nbformat_minor": 5
}
