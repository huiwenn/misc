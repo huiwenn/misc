{
 "cells": [
  {
   "cell_type": "code",
   "execution_count": 1,
   "id": "db76697b-6007-441e-b864-297c55b751b1",
   "metadata": {},
   "outputs": [],
   "source": [
    "import time\n",
    "from typing import Any, Dict, List, Tuple, Union\n",
    "\n",
    "import argparse\n",
    "import joblib\n",
    "import tensorflow as tf\n",
    "from termcolor import cprint\n",
    "import numpy as np\n",
    "import pickle as pkl\n",
    "import torch\n",
    "import torch.nn as nn\n",
    "import torch.nn.functional as F\n",
    "import utils.baseline_utils as baseline_utils\n",
    "from lstm_train_test import *"
   ]
  },
  {
   "cell_type": "code",
   "execution_count": 3,
   "id": "b4f6c728-eff8-46a7-910b-3b13be936a15",
   "metadata": {},
   "outputs": [],
   "source": [
    "import pickle\n",
    "import torch\n",
    "import sys\n",
    "\n",
    "sys.path.append('.')\n",
    "sys.path.append('..')\n",
    "import os\n",
    "import numpy as np\n",
    "from train_utils import *\n",
    "import matplotlib.pyplot as plt\n",
    "import matplotlib.lines as mlines\n",
    "from matplotlib.patches import Ellipse\n",
    "from datasets.argoverse_lane_loader import read_pkl_data\n",
    "from argoverse.map_representation.map_api import ArgoverseMap\n",
    "import pandas as pd\n",
    "import seaborn as sns\n",
    "from tqdm import tqdm\n",
    "from datasets import helper\n",
    "\n",
    "from tqdm import tqdm\n",
    "from collections import defaultdict\n",
    "from typing import Dict, Optional\n",
    "from datasets.argoverse_lane_loader import read_pkl_data\n",
    "from argoverse.data_loading.argoverse_forecasting_loader import ArgoverseForecastingLoader\n",
    "from argoverse.map_representation.map_api import ArgoverseMap"
   ]
  },
  {
   "cell_type": "markdown",
   "id": "a0b0e4e1-60b5-4116-ab1f-7552d4fe6fd8",
   "metadata": {},
   "source": [
    "# LSTM"
   ]
  },
  {
   "cell_type": "code",
   "execution_count": 9,
   "id": "3c9241fa-16a8-430e-96da-d3ee5c00e237",
   "metadata": {},
   "outputs": [],
   "source": [
    "device = 'cuda:0'"
   ]
  },
  {
   "cell_type": "code",
   "execution_count": 10,
   "id": "f3b6ee28-33e0-49fb-b1a6-716e91cf14f3",
   "metadata": {
    "tags": []
   },
   "outputs": [
    {
     "name": "stdout",
     "output_type": "stream",
     "text": [
      "=> loading checkpoint '../checkpoints/lstm_argo_rot2/LSTM_rollout30.pth.tar'\n",
      "=> loaded checkpoint ../checkpoints/lstm_argo_rot2/LSTM_rollout30.pth.tar (epoch: 115, loss: 3.148224115371704)\n"
     ]
    }
   ],
   "source": [
    "encoder = EncoderRNN(input_size=2)\n",
    "decoder = DecoderRNN(output_size=5)\n",
    "encoder = nn.DataParallel(encoder)\n",
    "decoder = nn.DataParallel(decoder)\n",
    "encoder.to(device)\n",
    "decoder.to(device)\n",
    "\n",
    "encoder_optimizer = torch.optim.Adam(encoder.parameters())\n",
    "decoder_optimizer = torch.optim.Adam(decoder.parameters())\n",
    "\n",
    "model_utils = ModelUtils()\n",
    "\n",
    "model_path = '../checkpoints/lstm_argo_rot2/LSTM_rollout30.pth.tar'\n",
    "epoch, rollout_len, _ = model_utils.load_checkpoint(\n",
    "            model_path, encoder, decoder, encoder_optimizer,\n",
    "            decoder_optimizer)"
   ]
  },
  {
   "cell_type": "code",
   "execution_count": 11,
   "id": "8a3abdfe-35db-458d-8559-138f52c244fc",
   "metadata": {},
   "outputs": [
    {
     "data": {
      "text/plain": [
       "DataParallel(\n",
       "  (module): DecoderRNN(\n",
       "    (linear1): Linear(in_features=5, out_features=8, bias=True)\n",
       "    (lstm1): LSTMCell(8, 32)\n",
       "    (linear2): Linear(in_features=32, out_features=5, bias=True)\n",
       "  )\n",
       ")"
      ]
     },
     "execution_count": 11,
     "metadata": {},
     "output_type": "execute_result"
    }
   ],
   "source": [
    "encoder.eval()\n",
    "decoder.eval()"
   ]
  },
  {
   "cell_type": "code",
   "execution_count": null,
   "id": "2b32e778-b5de-4e15-a532-21d9fcc9faec",
   "metadata": {},
   "outputs": [],
   "source": []
  },
  {
   "cell_type": "code",
   "execution_count": null,
   "id": "a4f4b669-657d-4c24-8031-a3bcbd117ab2",
   "metadata": {},
   "outputs": [],
   "source": [
    "val_dataset = read_pkl_data('/data/sophiasun/argoverse/val', batch_size=1, shuffle=False, repeat=False)\n",
    "for i, sample in enumerate(val_dataset):\n",
    "   \n",
    "    result = predict_lstm(sample)\n",
    "    plot_lstm(sample, result)"
   ]
  }
 ],
 "metadata": {
  "kernelspec": {
   "display_name": "pecco",
   "language": "python",
   "name": "pecco"
  },
  "language_info": {
   "codemirror_mode": {
    "name": "ipython",
    "version": 3
   },
   "file_extension": ".py",
   "mimetype": "text/x-python",
   "name": "python",
   "nbconvert_exporter": "python",
   "pygments_lexer": "ipython3",
   "version": "3.7.11"
  }
 },
 "nbformat": 4,
 "nbformat_minor": 5
}
