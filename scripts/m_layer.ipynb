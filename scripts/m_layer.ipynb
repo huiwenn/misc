{
 "cells": [
  {
   "cell_type": "code",
   "execution_count": 1,
   "id": "b6bcefc7",
   "metadata": {},
   "outputs": [],
   "source": [
    "import os\n",
    "os.sys.path.append('../models')"
   ]
  },
  {
   "cell_type": "code",
   "execution_count": 2,
   "id": "d0030dc6",
   "metadata": {},
   "outputs": [],
   "source": [
    "import numpy as np\n",
    "import torch\n",
    "import torch.nn as nn\n",
    "import torch.nn.functional as F\n",
    "import math\n",
    "\n",
    "from EquiCtsConv import *\n",
    "from EquiLinear import *"
   ]
  },
  {
   "cell_type": "code",
   "execution_count": 3,
   "id": "f1cbc58e",
   "metadata": {},
   "outputs": [],
   "source": [
    "in_channels =21\n",
    "layer_channels = [16,16,16,8]\n",
    "num_radii = 3\n",
    "num_theta = 16\n",
    "reg_dim = 8\n",
    "radius_scale = 40"
   ]
  },
  {
   "cell_type": "code",
   "execution_count": null,
   "id": "6d3d022f",
   "metadata": {},
   "outputs": [],
   "source": []
  },
  {
   "cell_type": "code",
   "execution_count": 4,
   "id": "7020af6d",
   "metadata": {},
   "outputs": [],
   "source": [
    "firstlayer =  EquiCtsConv2dRho1ToReg(in_channels = in_channels, \n",
    "                                     out_channels = layer_channels[0],\n",
    "                                     num_radii = num_radii, \n",
    "                                     num_theta = num_theta,\n",
    "                                     radius = radius_scale, \n",
    "                                     k = reg_dim)"
   ]
  },
  {
   "cell_type": "code",
   "execution_count": 5,
   "id": "ac129150",
   "metadata": {},
   "outputs": [],
   "source": [
    "reg2regconv = EquiCtsConv2dRegToReg(in_channels = 16, \n",
    "                                         out_channels = 32,\n",
    "                                         num_radii = num_radii, \n",
    "                                         num_theta = num_theta,\n",
    "                                         radius = radius_scale, \n",
    "                                         k = reg_dim)"
   ]
  },
  {
   "cell_type": "code",
   "execution_count": 6,
   "id": "842d5a9d",
   "metadata": {},
   "outputs": [],
   "source": [
    "reg2rho1 = EquiCtsConv2dRegToRho1(in_channels = 16, \n",
    "                                     out_channels = 32,\n",
    "                                     num_radii = num_radii, \n",
    "                                     num_theta = num_theta,\n",
    "                                     radius = radius_scale, \n",
    "                                     k = reg_dim)"
   ]
  },
  {
   "cell_type": "code",
   "execution_count": 7,
   "id": "9e130f7e",
   "metadata": {},
   "outputs": [],
   "source": [
    "matlayer = EquiCtsConv2dRegToMat(in_channels = 16, \n",
    "                                     out_channels = 32,\n",
    "                                     num_radii = num_radii, \n",
    "                                     num_theta = num_theta,\n",
    "                                     radius = radius_scale, \n",
    "                                     k = reg_dim)"
   ]
  },
  {
   "cell_type": "markdown",
   "id": "05df8775",
   "metadata": {},
   "source": [
    "p torch.Size([1, 60, 2])\n",
    "fluid_feats torch.Size([1, 60, 21, 2])\n",
    "fluid_mask torch.Size([1, 60, 1])"
   ]
  },
  {
   "cell_type": "code",
   "execution_count": 8,
   "id": "577aae79",
   "metadata": {},
   "outputs": [],
   "source": [
    "p = torch.rand(1,60,2)\n",
    "fl_feats = torch.rand([1, 60, 21, 2])\n",
    "fluid_mask = torch.ones([1, 60, 1])\n"
   ]
  },
  {
   "cell_type": "code",
   "execution_count": 9,
   "id": "a86c1edb",
   "metadata": {},
   "outputs": [],
   "source": [
    "conv = firstlayer(p, p, fl_feats, fluid_mask)"
   ]
  },
  {
   "cell_type": "code",
   "execution_count": 10,
   "id": "fa623a0c",
   "metadata": {},
   "outputs": [
    {
     "data": {
      "text/plain": [
       "torch.Size([1, 60, 16, 8])"
      ]
     },
     "execution_count": 10,
     "metadata": {},
     "output_type": "execute_result"
    }
   ],
   "source": [
    "conv.shape"
   ]
  },
  {
   "cell_type": "code",
   "execution_count": 11,
   "id": "0d33b9a0",
   "metadata": {},
   "outputs": [],
   "source": [
    "activation = F.relu"
   ]
  },
  {
   "cell_type": "code",
   "execution_count": 12,
   "id": "e1f770e1",
   "metadata": {},
   "outputs": [],
   "source": [
    "feats = activation(conv)"
   ]
  },
  {
   "cell_type": "code",
   "execution_count": 13,
   "id": "d7112bd6",
   "metadata": {},
   "outputs": [
    {
     "data": {
      "text/plain": [
       "torch.Size([1, 60, 16, 8])"
      ]
     },
     "execution_count": 13,
     "metadata": {},
     "output_type": "execute_result"
    }
   ],
   "source": [
    "feats.shape"
   ]
  },
  {
   "cell_type": "code",
   "execution_count": 14,
   "id": "a72f65c4",
   "metadata": {},
   "outputs": [],
   "source": [
    "# in: 16, out: 32\n",
    "regconv = reg2regconv(p, p, feats, fluid_mask)"
   ]
  },
  {
   "cell_type": "markdown",
   "id": "e937287d",
   "metadata": {},
   "source": [
    "out, in, 4"
   ]
  },
  {
   "cell_type": "code",
   "execution_count": 15,
   "id": "2c28876a",
   "metadata": {
    "scrolled": true
   },
   "outputs": [],
   "source": [
    "rho1 = reg2rho1(p, p, feats, fluid_mask)"
   ]
  },
  {
   "cell_type": "code",
   "execution_count": 16,
   "id": "7e81c7af",
   "metadata": {},
   "outputs": [
    {
     "data": {
      "text/plain": [
       "torch.Size([1, 60, 32, 2])"
      ]
     },
     "execution_count": 16,
     "metadata": {},
     "output_type": "execute_result"
    }
   ],
   "source": [
    "rho1.shape"
   ]
  },
  {
   "cell_type": "code",
   "execution_count": 17,
   "id": "fc05e377",
   "metadata": {},
   "outputs": [],
   "source": [
    "matout = matlayer(p, p, feats, fluid_mask)"
   ]
  },
  {
   "cell_type": "code",
   "execution_count": 18,
   "id": "5d0699f1",
   "metadata": {},
   "outputs": [
    {
     "data": {
      "text/plain": [
       "torch.Size([1, 60, 32, 2, 2])"
      ]
     },
     "execution_count": 18,
     "metadata": {},
     "output_type": "execute_result"
    }
   ],
   "source": [
    "matout.shape"
   ]
  },
  {
   "cell_type": "markdown",
   "id": "2179eed0",
   "metadata": {},
   "source": [
    "in EquiCtsConv around line 100\n",
    "\n",
    "InterpolateKernel(self, kernel, pos):\n",
    "\n",
    "what does this do / mean? don't know how to deal with this for increased dimentions."
   ]
  },
  {
   "cell_type": "code",
   "execution_count": null,
   "id": "6c22b608",
   "metadata": {},
   "outputs": [],
   "source": []
  },
  {
   "cell_type": "code",
   "execution_count": null,
   "id": "def649e3",
   "metadata": {},
   "outputs": [],
   "source": []
  },
  {
   "cell_type": "markdown",
   "id": "a3b5e887",
   "metadata": {},
   "source": [
    "# Equivariance error"
   ]
  },
  {
   "cell_type": "code",
   "execution_count": 19,
   "id": "70e71c82",
   "metadata": {},
   "outputs": [],
   "source": [
    "firstlayer =  EquiCtsConv2dRho1ToReg(in_channels = in_channels, \n",
    "                                     out_channels = layer_channels[0],\n",
    "                                     num_radii = num_radii, \n",
    "                                     num_theta = num_theta,\n",
    "                                     radius = radius_scale, \n",
    "                                     k = reg_dim)\n",
    "reg2rho1 = EquiCtsConv2dRegToRho1(in_channels = 16, \n",
    "                                     out_channels = 1,\n",
    "                                     num_radii = num_radii, \n",
    "                                     num_theta = num_theta,\n",
    "                                     radius = radius_scale, \n",
    "                                     k = reg_dim)\n",
    "matlayer = EquiCtsConv2dRegToMat(in_channels = 16, \n",
    "                                     out_channels = 1,\n",
    "                                     num_radii = num_radii, \n",
    "                                     num_theta = num_theta,\n",
    "                                     radius = radius_scale, \n",
    "                                     k = reg_dim)"
   ]
  },
  {
   "cell_type": "code",
   "execution_count": 20,
   "id": "67025c3d",
   "metadata": {},
   "outputs": [],
   "source": [
    "\n",
    "p = torch.rand(1,60,2)\n",
    "fl_feats = torch.rand([1, 60, 21, 2])\n",
    "fluid_mask = torch.ones([1, 60, 1])\n",
    "\n",
    "with torch.no_grad():\n",
    "    conv = firstlayer(p, p, fl_feats, fluid_mask)\n",
    "    feats = activation(conv)\n",
    "    posout = reg2rho1(p, p, feats, fluid_mask)\n",
    "    matout = matlayer(p, p, feats, fluid_mask)"
   ]
  },
  {
   "cell_type": "code",
   "execution_count": 21,
   "id": "a335e978",
   "metadata": {},
   "outputs": [],
   "source": [
    "import matplotlib.pyplot as plt\n",
    "import seaborn as sns\n",
    "sns.set_style(\"white\")"
   ]
  },
  {
   "cell_type": "code",
   "execution_count": 22,
   "id": "11e581be",
   "metadata": {},
   "outputs": [
    {
     "data": {
      "text/plain": [
       "(torch.Size([1, 60, 1, 2]), torch.Size([1, 60, 1, 2, 2]))"
      ]
     },
     "execution_count": 22,
     "metadata": {},
     "output_type": "execute_result"
    }
   ],
   "source": [
    "posout.shape, matout.shape"
   ]
  },
  {
   "cell_type": "code",
   "execution_count": 23,
   "id": "1aab7fde",
   "metadata": {},
   "outputs": [
    {
     "data": {
      "text/plain": [
       "<matplotlib.collections.PathCollection at 0x7f69b0f485d0>"
      ]
     },
     "execution_count": 23,
     "metadata": {},
     "output_type": "execute_result"
    },
    {
     "data": {
      "image/png": "[encoded data removed]",
      "text/plain": [
       "<Figure size 432x288 with 1 Axes>"
      ]
     },
     "metadata": {},
     "output_type": "display_data"
    }
   ],
   "source": [
    "plt.scatter(posout[0,:5,0,0], posout[0,:5,0,1])"
   ]
  },
  {
   "cell_type": "code",
   "execution_count": 30,
   "id": "28ee9788",
   "metadata": {
    "scrolled": true
   },
   "outputs": [
    {
     "data": {
      "image/png": "[encoded data removed]",
      "text/plain": [
       "<Figure size 432x288 with 1 Axes>"
      ]
     },
     "metadata": {},
     "output_type": "display_data"
    },
    {
     "data": {
      "image/png": "[encoded data removed]",
      "text/plain": [
       "<Figure size 432x288 with 1 Axes>"
      ]
     },
     "metadata": {},
     "output_type": "display_data"
    },
    {
     "data": {
      "image/png": "[encoded data removed]",
      "text/plain": [
       "<Figure size 432x288 with 1 Axes>"
      ]
     },
     "metadata": {},
     "output_type": "display_data"
    }
   ],
   "source": [
    "from train_utils import *\n",
    "\n",
    "for i in range(3):\n",
    "    sigma = calc_sigma_edit(matout[0,i,0,:,:])\n",
    "    samples = np.random.multivariate_normal([posout[0,i,0,0], posout[0,i,0,1]], sigma, size=600)\n",
    "    sns.kdeplot(data=samples, cmap=\"Blues\", shade=False, alpha=0.5)\n",
    "    plt.show()\n",
    "    "
   ]
  },
  {
   "cell_type": "code",
   "execution_count": 27,
   "id": "c0371c0e",
   "metadata": {},
   "outputs": [],
   "source": [
    "p_rot = torch.tensor(rotation(0.5*np.pi, p), dtype = torch.float32)\n",
    "feats_rot = torch.tensor(rotation(0.5*np.pi, fl_feats), dtype = torch.float32)"
   ]
  },
  {
   "cell_type": "code",
   "execution_count": 28,
   "id": "0d6e006a",
   "metadata": {},
   "outputs": [],
   "source": [
    "with torch.no_grad():\n",
    "    conv = firstlayer(p_rot, p_rot, feats_rot, fluid_mask)\n",
    "    feats = activation(conv)\n",
    "    posout_rot = reg2rho1(p_rot, p_rot, feats, fluid_mask)\n",
    "    matout_rot = matlayer(p_rot, p_rot, feats, fluid_mask)"
   ]
  },
  {
   "cell_type": "markdown",
   "id": "c34d68fa",
   "metadata": {},
   "source": [
    "Why does this matter?\n",
    "\n",
    "- add the equivariance test to paper\n",
    "- Add matrix setup for write up\n",
    "- update results w/ full equivariance\n",
    "- cheating test?\n",
    "    - rotate all the data and see if \n",
    "    - test on unseen cities? \n",
    "\n",
    "- polynomial / exponential scaling?\n",
    "- function of the dot product w/ past trajectories \n",
    "- angle and magnitude instead of absolute velocity vectors"
   ]
  },
  {
   "cell_type": "markdown",
   "id": "1a21a02e",
   "metadata": {},
   "source": [
    "(graph network) anisotrphic graph convolution (position is feature vector)"
   ]
  },
  {
   "cell_type": "code",
   "execution_count": 44,
   "id": "11cf75a1",
   "metadata": {},
   "outputs": [
    {
     "name": "stdout",
     "output_type": "stream",
     "text": [
      "tensor(0.)\n",
      "tensor(0.0018)\n",
      "tensor(0.)\n",
      "tensor(0.0019)\n",
      "tensor(0.)\n",
      "tensor(0.0018)\n",
      "tensor(0.)\n",
      "tensor(0.0018)\n",
      "tensor(0.)\n",
      "tensor(0.0018)\n",
      "tensor(0.)\n",
      "tensor(0.0018)\n",
      "tensor(0.)\n",
      "tensor(0.0018)\n",
      "tensor(0.)\n",
      "tensor(0.0018)\n",
      "tensor(0.)\n",
      "tensor(0.0018)\n",
      "tensor(0.)\n",
      "tensor(0.0019)\n",
      "tensor(0.)\n",
      "tensor(0.0017)\n",
      "tensor(0.)\n",
      "tensor(0.0018)\n"
     ]
    }
   ],
   "source": [
    "for i in range(12):\n",
    "    sigma1 = calc_sigma_edit(matout[0,i,0,:,:])\n",
    "    p = torch.distributions.MultivariateNormal(posout[0,i,0,:],sigma1)\n",
    "    \n",
    "    pos_rot_back = torch.tensor(rotation(-0.5* np.pi, posout_rot), dtype = torch.float32)\n",
    "    sigma2 = calc_sigma_edit(matout_rot[0,i,0,:,:])\n",
    "    sigma2_rot_back = rot_cov(-0.5* np.pi, sigma2)\n",
    "    q = torch.distributions.MultivariateNormal(pos_rot_back[0,i,0,:], sigma2_rot_back)\n",
    "    \n",
    "    kl = torch.distributions.kl.kl_divergence(p, q)\n",
    "    print(kl)\n",
    "    \n",
    "\n",
    "    # what if we don't rotate back\n",
    "    j = torch.distributions.MultivariateNormal(pos_rot_back[0,i,0,:], sigma2)\n",
    "    kl_compare = torch.distributions.kl.kl_divergence(p, j)\n",
    "    print(kl_compare)\n",
    "\n"
   ]
  },
  {
   "cell_type": "code",
   "execution_count": null,
   "id": "d45ec6ce",
   "metadata": {},
   "outputs": [],
   "source": []
  },
  {
   "cell_type": "code",
   "execution_count": 32,
   "id": "fd395480",
   "metadata": {},
   "outputs": [],
   "source": [
    "def RotMat(theta):\n",
    "    m = np.array([\n",
    "            [np.cos(theta), -np.sin(theta)], \n",
    "            [np.sin(theta), np.cos(theta)]\n",
    "        ])\n",
    "    return m\n",
    "\n",
    "def rotation(theta, field):\n",
    "    rotmat = RotMat(theta)\n",
    "    rot_field = np.zeros(field.shape)\n",
    "    rot_field[...,:2] =  np.einsum('ij,...j->...i', rotmat, field[...,:2])\n",
    "    if field.shape[-1] > 2:\n",
    "        rot_field[...,2] = 0\n",
    "    return rot_field\n",
    "\n",
    "def rotate_pred(data, theta):\n",
    "    xy = data[:,:,:2]\n",
    "    cov = data[:,:,-4:].reshape(*data.shape[:2],2,2)\n",
    "\n",
    "    new_xy =  torch.tensor(rotation(theta, xy), dtype=torch.float32) \n",
    "    rot = torch.tensor(RotMat(theta), dtype=torch.float32) \n",
    "    new_cov = rot@cov@rot.T\n",
    "    #new_cov = torch.matmul(torch.matmul(rot, cov), rot.T)\n",
    "    return new_xy, new_cov\n",
    "\n",
    "def rot_cov(theta, cov):\n",
    "    rot = torch.tensor(RotMat(theta), dtype=torch.float32) \n",
    "    new_cov = rot@cov@rot.T\n",
    "    return new_cov"
   ]
  },
  {
   "cell_type": "code",
   "execution_count": null,
   "id": "d54871f5",
   "metadata": {},
   "outputs": [],
   "source": []
  },
  {
   "cell_type": "code",
   "execution_count": null,
   "id": "11bf6349",
   "metadata": {},
   "outputs": [],
   "source": []
  }
 ],
 "metadata": {
  "kernelspec": {
   "display_name": "pecco",
   "language": "python",
   "name": "pecco"
  },
  "language_info": {
   "codemirror_mode": {
    "name": "ipython",
    "version": 3
   },
   "file_extension": ".py",
   "mimetype": "text/x-python",
   "name": "python",
   "nbconvert_exporter": "python",
   "pygments_lexer": "ipython3",
   "version": "3.7.11"
  }
 },
 "nbformat": 4,
 "nbformat_minor": 5
}
