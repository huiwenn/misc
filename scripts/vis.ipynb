{
 "cells": [
  {
   "cell_type": "code",
   "execution_count": 1,
   "metadata": {},
   "outputs": [],
   "source": [
    "import pickle\n",
    "import torch\n",
    "import sys\n",
    "import os\n",
    "import numpy as np\n",
    "from train_utils import *\n",
    "\n",
    "sys.path.append('..')\n"
   ]
  },
  {
   "cell_type": "code",
   "execution_count": 2,
   "metadata": {},
   "outputs": [
    {
     "name": "stdout",
     "output_type": "stream",
     "text": [
      "1.9.0\n"
     ]
    }
   ],
   "source": [
    "print(torch.__version__)\n"
   ]
  },
  {
   "cell_type": "code",
   "execution_count": 2,
   "metadata": {},
   "outputs": [
    {
     "data": {
      "text/plain": [
       "ECCONetwork(\n",
       "  (conv_fluid): EquiCtsConv2dRho1ToReg()\n",
       "  (conv_obstacle): EquiCtsConv2dRho1ToReg()\n",
       "  (dense_fluid): Sequential(\n",
       "    (0): EquiLinearRho1ToReg()\n",
       "    (1): EquiLinearRegToReg()\n",
       "  )\n",
       "  (convs): ModuleList(\n",
       "    (0): EquiCtsConv2dRegToReg()\n",
       "    (1): EquiCtsConv2dRegToReg()\n",
       "    (2): EquiCtsConv2dRegToReg()\n",
       "    (3): EquiCtsConv2dRegToRho1()\n",
       "  )\n",
       "  (denses): ModuleList(\n",
       "    (0): EquiLinearRegToReg()\n",
       "    (1): EquiLinearRegToReg()\n",
       "    (2): EquiLinearRegToReg()\n",
       "    (3): Sequential(\n",
       "      (0): EquiLinearRegToReg()\n",
       "      (1): EquiLinearRegToRho1()\n",
       "    )\n",
       "  )\n",
       ")"
      ]
     },
     "execution_count": 2,
     "metadata": {},
     "output_type": "execute_result"
    }
   ],
   "source": [
    "model_name = 'rho_reg_pecco'\n",
    "trained_model = torch.load('../checkpoints/' + model_name + '.pth',map_location=torch.device('cpu'))\n",
    "trained_model.eval()"
   ]
  },
  {
   "cell_type": "code",
   "execution_count": 3,
   "metadata": {},
   "outputs": [],
   "source": [
    "from evaluate_network import evaluate\n",
    "from datasets.argoverse_lane_loader import read_pkl_data\n",
    "from argoverse.map_representation.map_api import ArgoverseMap\n"
   ]
  },
  {
   "cell_type": "code",
   "execution_count": 13,
   "metadata": {},
   "outputs": [],
   "source": [
    "dataset_path = '../../argoverse_data/rose'\n",
    "val_path = os.path.join(dataset_path, 'val') #, 'lane_data'\n",
    "val_dataset = read_pkl_data(val_path, batch_size=1, shuffle=False, repeat=False)\n"
   ]
  },
  {
   "cell_type": "code",
   "execution_count": 14,
   "metadata": {},
   "outputs": [
    {
     "name": "stdout",
     "output_type": "stream",
     "text": [
      "evaluating.. {'nll': 0.0, 'ADE': nan, 'ADE_std': nan, 'DE@1s': nan, 'DE@1s_std': nan, 'DE@2s': nan, 'DE@2s_std': nan, 'DE@3s': nan, 'DE@3s_std': nan}\n",
      "done\n"
     ]
    }
   ],
   "source": [
    "with torch.no_grad():\n",
    "    total_loss, prediction_gt = evaluate(trained_model, val_dataset,\n",
    "                                       train_window=4, max_iter=50, \n",
    "                                       device='cpu', start_iter=50, use_lane=False)"
   ]
  },
  {
   "cell_type": "code",
   "execution_count": 17,
   "metadata": {},
   "outputs": [],
   "source": [
    "from evaluate_network import *"
   ]
  },
  {
   "cell_type": "code",
   "execution_count": 25,
   "metadata": {},
   "outputs": [],
   "source": [
    "model = trained_model\n",
    "max_iter =50\n",
    "start_iter =50\n",
    "device = 'cpu'\n",
    "batch_size=1"
   ]
  },
  {
   "cell_type": "code",
   "execution_count": 36,
   "metadata": {
    "scrolled": true
   },
   "outputs": [
    {
     "name": "stdout",
     "output_type": "stream",
     "text": [
      "batch complete:  0\n",
      "batch complete:  1\n",
      "batch complete:  2\n",
      "batch complete:  3\n",
      "batch complete:  4\n"
     ]
    },
    {
     "ename": "KeyboardInterrupt",
     "evalue": "",
     "output_type": "error",
     "traceback": [
      "\u001b[0;31m---------------------------------------------------------------------------\u001b[0m",
      "\u001b[0;31mKeyboardInterrupt\u001b[0m                         Traceback (most recent call last)",
      "\u001b[0;32m<ipython-input-36-dca5b6c1d206>\u001b[0m in \u001b[0;36m<module>\u001b[0;34m\u001b[0m\n\u001b[1;32m     47\u001b[0m         \u001b[0mpos0\u001b[0m\u001b[0;34m,\u001b[0m \u001b[0mvel0\u001b[0m\u001b[0;34m,\u001b[0m \u001b[0mm0\u001b[0m \u001b[0;34m=\u001b[0m \u001b[0mpr_pos1\u001b[0m\u001b[0;34m,\u001b[0m \u001b[0mpr_vel1\u001b[0m\u001b[0;34m,\u001b[0m \u001b[0mpr_m1\u001b[0m\u001b[0;34m\u001b[0m\u001b[0;34m\u001b[0m\u001b[0m\n\u001b[1;32m     48\u001b[0m \u001b[0;34m\u001b[0m\u001b[0m\n\u001b[0;32m---> 49\u001b[0;31m         \u001b[0mpr_pos1\u001b[0m\u001b[0;34m,\u001b[0m \u001b[0mpr_vel1\u001b[0m\u001b[0;34m,\u001b[0m \u001b[0mpr_m1\u001b[0m\u001b[0;34m,\u001b[0m \u001b[0mstates\u001b[0m \u001b[0;34m=\u001b[0m \u001b[0mmodel\u001b[0m\u001b[0;34m(\u001b[0m\u001b[0minputs\u001b[0m\u001b[0;34m,\u001b[0m \u001b[0mstates\u001b[0m\u001b[0;34m)\u001b[0m\u001b[0;34m\u001b[0m\u001b[0;34m\u001b[0m\u001b[0m\n\u001b[0m\u001b[1;32m     50\u001b[0m         \u001b[0mclean_cache\u001b[0m\u001b[0;34m(\u001b[0m\u001b[0mdevice\u001b[0m\u001b[0;34m)\u001b[0m\u001b[0;34m\u001b[0m\u001b[0;34m\u001b[0m\u001b[0m\n\u001b[1;32m     51\u001b[0m \u001b[0;34m\u001b[0m\u001b[0m\n",
      "\u001b[0;32m~/miniconda2/envs/py3/lib/python3.7/site-packages/torch/nn/modules/module.py\u001b[0m in \u001b[0;36m_call_impl\u001b[0;34m(self, *input, **kwargs)\u001b[0m\n\u001b[1;32m   1049\u001b[0m         if not (self._backward_hooks or self._forward_hooks or self._forward_pre_hooks or _global_backward_hooks\n\u001b[1;32m   1050\u001b[0m                 or _global_forward_hooks or _global_forward_pre_hooks):\n\u001b[0;32m-> 1051\u001b[0;31m             \u001b[0;32mreturn\u001b[0m \u001b[0mforward_call\u001b[0m\u001b[0;34m(\u001b[0m\u001b[0;34m*\u001b[0m\u001b[0minput\u001b[0m\u001b[0;34m,\u001b[0m \u001b[0;34m**\u001b[0m\u001b[0mkwargs\u001b[0m\u001b[0;34m)\u001b[0m\u001b[0;34m\u001b[0m\u001b[0;34m\u001b[0m\u001b[0m\n\u001b[0m\u001b[1;32m   1052\u001b[0m         \u001b[0;31m# Do not call functions when jit is used\u001b[0m\u001b[0;34m\u001b[0m\u001b[0;34m\u001b[0m\u001b[0;34m\u001b[0m\u001b[0m\n\u001b[1;32m   1053\u001b[0m         \u001b[0mfull_backward_hooks\u001b[0m\u001b[0;34m,\u001b[0m \u001b[0mnon_full_backward_hooks\u001b[0m \u001b[0;34m=\u001b[0m \u001b[0;34m[\u001b[0m\u001b[0;34m]\u001b[0m\u001b[0;34m,\u001b[0m \u001b[0;34m[\u001b[0m\u001b[0;34m]\u001b[0m\u001b[0;34m\u001b[0m\u001b[0;34m\u001b[0m\u001b[0m\n",
      "\u001b[0;32m~/Desktop/2cool4school/phd/P-ECCO/models/rho_reg_ECCO.py\u001b[0m in \u001b[0;36mforward\u001b[0;34m(self, inputs, states)\u001b[0m\n\u001b[1;32m    186\u001b[0m         \u001b[0;31m# a = (v0 - v0_enc[...,-1,:]) / self.timestep\u001b[0m\u001b[0;34m\u001b[0m\u001b[0;34m\u001b[0m\u001b[0;34m\u001b[0m\u001b[0m\n\u001b[1;32m    187\u001b[0m         \u001b[0mp1\u001b[0m\u001b[0;34m,\u001b[0m \u001b[0mv1\u001b[0m \u001b[0;34m=\u001b[0m \u001b[0mself\u001b[0m\u001b[0;34m.\u001b[0m\u001b[0mupdate_pos_vel\u001b[0m\u001b[0;34m(\u001b[0m\u001b[0mp0\u001b[0m\u001b[0;34m,\u001b[0m \u001b[0mv0\u001b[0m\u001b[0;34m,\u001b[0m \u001b[0ma\u001b[0m\u001b[0;34m)\u001b[0m\u001b[0;34m\u001b[0m\u001b[0;34m\u001b[0m\u001b[0m\n\u001b[0;32m--> 188\u001b[0;31m         \u001b[0mpos_correction\u001b[0m \u001b[0;34m=\u001b[0m \u001b[0mself\u001b[0m\u001b[0;34m.\u001b[0m\u001b[0mcompute_correction\u001b[0m\u001b[0;34m(\u001b[0m\u001b[0mp1\u001b[0m\u001b[0;34m,\u001b[0m \u001b[0mv1\u001b[0m\u001b[0;34m,\u001b[0m \u001b[0mfeats\u001b[0m\u001b[0;34m,\u001b[0m \u001b[0mbox\u001b[0m\u001b[0;34m,\u001b[0m \u001b[0mbox_feats\u001b[0m\u001b[0;34m,\u001b[0m \u001b[0mfluid_mask\u001b[0m\u001b[0;34m,\u001b[0m \u001b[0mbox_mask\u001b[0m\u001b[0;34m)\u001b[0m\u001b[0;34m\u001b[0m\u001b[0;34m\u001b[0m\u001b[0m\n\u001b[0m\u001b[1;32m    189\u001b[0m \u001b[0;34m\u001b[0m\u001b[0m\n\u001b[1;32m    190\u001b[0m         \u001b[0;31m# the 1st output channel is correction\u001b[0m\u001b[0;34m\u001b[0m\u001b[0;34m\u001b[0m\u001b[0;34m\u001b[0m\u001b[0m\n",
      "\u001b[0;32m~/Desktop/2cool4school/phd/P-ECCO/models/rho_reg_ECCO.py\u001b[0m in \u001b[0;36mcompute_correction\u001b[0;34m(self, p, v, other_feats, box, box_feats, fluid_mask, box_mask)\u001b[0m\n\u001b[1;32m    143\u001b[0m             \u001b[0min_feats\u001b[0m \u001b[0;34m=\u001b[0m \u001b[0mself\u001b[0m\u001b[0;34m.\u001b[0m\u001b[0mactivation\u001b[0m\u001b[0;34m(\u001b[0m\u001b[0moutput\u001b[0m\u001b[0;34m)\u001b[0m\u001b[0;34m\u001b[0m\u001b[0;34m\u001b[0m\u001b[0m\n\u001b[1;32m    144\u001b[0m             \u001b[0;31m# in_feats = output\u001b[0m\u001b[0;34m\u001b[0m\u001b[0;34m\u001b[0m\u001b[0;34m\u001b[0m\u001b[0m\n\u001b[0;32m--> 145\u001b[0;31m             \u001b[0moutput_conv\u001b[0m \u001b[0;34m=\u001b[0m \u001b[0mconv\u001b[0m\u001b[0;34m(\u001b[0m\u001b[0mp\u001b[0m\u001b[0;34m,\u001b[0m \u001b[0mp\u001b[0m\u001b[0;34m,\u001b[0m \u001b[0min_feats\u001b[0m\u001b[0;34m,\u001b[0m \u001b[0mfluid_mask\u001b[0m\u001b[0;34m)\u001b[0m\u001b[0;34m\u001b[0m\u001b[0;34m\u001b[0m\u001b[0m\n\u001b[0m\u001b[1;32m    146\u001b[0m             \u001b[0moutput_dense\u001b[0m \u001b[0;34m=\u001b[0m \u001b[0mdense\u001b[0m\u001b[0;34m(\u001b[0m\u001b[0min_feats\u001b[0m\u001b[0;34m)\u001b[0m\u001b[0;34m\u001b[0m\u001b[0;34m\u001b[0m\u001b[0m\n\u001b[1;32m    147\u001b[0m \u001b[0;34m\u001b[0m\u001b[0m\n",
      "\u001b[0;32m~/miniconda2/envs/py3/lib/python3.7/site-packages/torch/nn/modules/module.py\u001b[0m in \u001b[0;36m_call_impl\u001b[0;34m(self, *input, **kwargs)\u001b[0m\n\u001b[1;32m   1049\u001b[0m         if not (self._backward_hooks or self._forward_hooks or self._forward_pre_hooks or _global_backward_hooks\n\u001b[1;32m   1050\u001b[0m                 or _global_forward_hooks or _global_forward_pre_hooks):\n\u001b[0;32m-> 1051\u001b[0;31m             \u001b[0;32mreturn\u001b[0m \u001b[0mforward_call\u001b[0m\u001b[0;34m(\u001b[0m\u001b[0;34m*\u001b[0m\u001b[0minput\u001b[0m\u001b[0;34m,\u001b[0m \u001b[0;34m**\u001b[0m\u001b[0mkwargs\u001b[0m\u001b[0;34m)\u001b[0m\u001b[0;34m\u001b[0m\u001b[0;34m\u001b[0m\u001b[0m\n\u001b[0m\u001b[1;32m   1052\u001b[0m         \u001b[0;31m# Do not call functions when jit is used\u001b[0m\u001b[0;34m\u001b[0m\u001b[0;34m\u001b[0m\u001b[0;34m\u001b[0m\u001b[0m\n\u001b[1;32m   1053\u001b[0m         \u001b[0mfull_backward_hooks\u001b[0m\u001b[0;34m,\u001b[0m \u001b[0mnon_full_backward_hooks\u001b[0m \u001b[0;34m=\u001b[0m \u001b[0;34m[\u001b[0m\u001b[0;34m]\u001b[0m\u001b[0;34m,\u001b[0m \u001b[0;34m[\u001b[0m\u001b[0;34m]\u001b[0m\u001b[0;34m\u001b[0m\u001b[0;34m\u001b[0m\u001b[0m\n",
      "\u001b[0;32m~/Desktop/2cool4school/phd/P-ECCO/models/EquiCtsConv.py\u001b[0m in \u001b[0;36mforward\u001b[0;34m(self, field, center, field_feat, field_mask, ctr_feat)\u001b[0m\n\u001b[1;32m    203\u001b[0m         out = self.ContinuousConv(\n\u001b[1;32m    204\u001b[0m             \u001b[0mfield\u001b[0m\u001b[0;34m,\u001b[0m \u001b[0mcenter\u001b[0m\u001b[0;34m,\u001b[0m \u001b[0mfield_feat\u001b[0m\u001b[0;34m,\u001b[0m \u001b[0mfield_mask\u001b[0m\u001b[0;34m,\u001b[0m\u001b[0;34m\u001b[0m\u001b[0;34m\u001b[0m\u001b[0m\n\u001b[0;32m--> 205\u001b[0;31m             \u001b[0mctr_feat\u001b[0m\u001b[0;34m\u001b[0m\u001b[0;34m\u001b[0m\u001b[0m\n\u001b[0m\u001b[1;32m    206\u001b[0m         )\n\u001b[1;32m    207\u001b[0m         \u001b[0;32mreturn\u001b[0m \u001b[0mout\u001b[0m\u001b[0;34m\u001b[0m\u001b[0;34m\u001b[0m\u001b[0m\n",
      "\u001b[0;32m~/Desktop/2cool4school/phd/P-ECCO/models/EquiCtsConv.py\u001b[0m in \u001b[0;36mContinuousConv\u001b[0;34m(self, field, center, field_feat, field_mask, ctr_feat)\u001b[0m\n\u001b[1;32m    165\u001b[0m         \u001b[0;31m# polar_field: [batch, num_m, num_n, pos_dim]\u001b[0m\u001b[0;34m\u001b[0m\u001b[0;34m\u001b[0m\u001b[0;34m\u001b[0m\u001b[0m\n\u001b[1;32m    166\u001b[0m \u001b[0;34m\u001b[0m\u001b[0m\n\u001b[0;32m--> 167\u001b[0;31m         \u001b[0mkernel_on_field\u001b[0m \u001b[0;34m=\u001b[0m \u001b[0mself\u001b[0m\u001b[0;34m.\u001b[0m\u001b[0mInterpolateKernel\u001b[0m\u001b[0;34m(\u001b[0m\u001b[0mkernel\u001b[0m\u001b[0;34m,\u001b[0m \u001b[0mpolar_field\u001b[0m\u001b[0;34m)\u001b[0m\u001b[0;34m\u001b[0m\u001b[0;34m\u001b[0m\u001b[0m\n\u001b[0m\u001b[1;32m    168\u001b[0m         \u001b[0;31m# kernel_on_field: [batch, num_m, num_n, c_out, c_in, 2, 2]\u001b[0m\u001b[0;34m\u001b[0m\u001b[0;34m\u001b[0m\u001b[0;34m\u001b[0m\u001b[0m\n\u001b[1;32m    169\u001b[0m \u001b[0;34m\u001b[0m\u001b[0m\n",
      "\u001b[0;32m~/Desktop/2cool4school/phd/P-ECCO/models/EquiCtsConv.py\u001b[0m in \u001b[0;36mInterpolateKernel\u001b[0;34m(self, kernel, pos)\u001b[0m\n\u001b[1;32m    134\u001b[0m \u001b[0;34m\u001b[0m\u001b[0m\n\u001b[1;32m    135\u001b[0m         out = F.grid_sample(padded_kernels, grid, padding_mode='zeros', \n\u001b[0;32m--> 136\u001b[0;31m                             mode='bilinear', align_corners=False)  #bilinear\n\u001b[0m\u001b[1;32m    137\u001b[0m         \u001b[0;31m# out: [batch, C=c_out*c_in*4, num_m, num_n]\u001b[0m\u001b[0;34m\u001b[0m\u001b[0;34m\u001b[0m\u001b[0;34m\u001b[0m\u001b[0m\n\u001b[1;32m    138\u001b[0m         \u001b[0;31m#      [N, C, H_out, W_out]\u001b[0m\u001b[0;34m\u001b[0m\u001b[0;34m\u001b[0m\u001b[0;34m\u001b[0m\u001b[0m\n",
      "\u001b[0;32m~/miniconda2/envs/py3/lib/python3.7/site-packages/torch/nn/functional.py\u001b[0m in \u001b[0;36mgrid_sample\u001b[0;34m(input, grid, mode, padding_mode, align_corners)\u001b[0m\n\u001b[1;32m   3987\u001b[0m         \u001b[0malign_corners\u001b[0m \u001b[0;34m=\u001b[0m \u001b[0;32mFalse\u001b[0m\u001b[0;34m\u001b[0m\u001b[0;34m\u001b[0m\u001b[0m\n\u001b[1;32m   3988\u001b[0m \u001b[0;34m\u001b[0m\u001b[0m\n\u001b[0;32m-> 3989\u001b[0;31m     \u001b[0;32mreturn\u001b[0m \u001b[0mtorch\u001b[0m\u001b[0;34m.\u001b[0m\u001b[0mgrid_sampler\u001b[0m\u001b[0;34m(\u001b[0m\u001b[0minput\u001b[0m\u001b[0;34m,\u001b[0m \u001b[0mgrid\u001b[0m\u001b[0;34m,\u001b[0m \u001b[0mmode_enum\u001b[0m\u001b[0;34m,\u001b[0m \u001b[0mpadding_mode_enum\u001b[0m\u001b[0;34m,\u001b[0m \u001b[0malign_corners\u001b[0m\u001b[0;34m)\u001b[0m\u001b[0;34m\u001b[0m\u001b[0;34m\u001b[0m\u001b[0m\n\u001b[0m\u001b[1;32m   3990\u001b[0m \u001b[0;34m\u001b[0m\u001b[0m\n\u001b[1;32m   3991\u001b[0m \u001b[0;34m\u001b[0m\u001b[0m\n",
      "\u001b[0;31mKeyboardInterrupt\u001b[0m: "
     ]
    }
   ],
   "source": [
    "for i, sample in enumerate(val_dataset):\n",
    "    pred = []\n",
    "    gt = []\n",
    "\n",
    "    data = process_batch(sample, device)\n",
    "\n",
    "    lane = data['lane']\n",
    "    lane_normals = data['lane_norm']\n",
    "    agent_id = data['agent_id']\n",
    "    city = data['city']\n",
    "    scenes = data['scene_idx'].tolist()\n",
    "\n",
    "    inputs = ([\n",
    "        data['pos_2s'], data['vel_2s'], \n",
    "        data['pos0'], data['vel0'], \n",
    "        data['accel'], data['sigmas'],\n",
    "        data['lane'], data['lane_norm'], \n",
    "        data['car_mask'], data['lane_mask']\n",
    "    ])\n",
    "\n",
    "    pr_pos1, pr_vel1, pr_m1, states = model(inputs)\n",
    "    gt_pos1 = data['pos1']\n",
    "\n",
    "    losses = nll(pr_pos1, gt_pos1, pr_m1, data['car_mask'].squeeze(-1))\n",
    "\n",
    "    pr_agent, gt_agent = get_agent(pr_pos1, data['pos1'],\n",
    "                                   data['track_id0'].squeeze(-1), \n",
    "                                   data['track_id1'].squeeze(-1), \n",
    "                                   agent_id.squeeze(-1), device)\n",
    "\n",
    "    pred.append(pr_agent.unsqueeze(1).detach().cpu())\n",
    "    gt.append(gt_agent.unsqueeze(1).detach().cpu())\n",
    "    del pr_agent, gt_agent\n",
    "    clean_cache(device)\n",
    "\n",
    "    pos0 = data['pos0']\n",
    "    vel0 = data['vel0']\n",
    "    m0 = torch.zeros((batch_size, 60, 2, 2), device=pos0.device)\n",
    "    for j in range(29):\n",
    "        pos_enc = torch.unsqueeze(pos0, 2)\n",
    "        vel_enc = torch.unsqueeze(vel0, 2)\n",
    "        inputs = (pos_enc, vel_enc, pr_pos1, pr_vel1, data['accel'],\n",
    "                  torch.cat([m0, pr_m1], dim=-2), \n",
    "                  data['lane'],\n",
    "                  data['lane_norm'], data['car_mask'], data['lane_mask'])\n",
    "        \n",
    "        pos0, vel0, m0 = pr_pos1, pr_vel1, pr_m1\n",
    "\n",
    "        pr_pos1, pr_vel1, pr_m1, states = model(inputs, states)\n",
    "        clean_cache(device)\n",
    "\n",
    "        gt_pos1 = data['pos'+str(j+1)]\n",
    "        losses += nll(pr_pos1, gt_pos1, pr_m1, data['car_mask'].squeeze(-1))\n",
    "\n",
    "        pr_agent, gt_agent = get_agent(pr_pos1, data['pos'+str(j+1)],\n",
    "                                       data['track_id0'].squeeze(-1), \n",
    "                                       data['track_id'+str(j+1)].squeeze(-1),\n",
    "                                       agent_id.squeeze(-1), device)\n",
    "\n",
    "        pred.append(pr_agent.unsqueeze(1).detach().cpu())\n",
    "        gt.append(gt_agent.unsqueeze(1).detach().cpu())\n",
    "        \n",
    "    print(\"batch complete: \", i)\n"
   ]
  },
  {
   "cell_type": "code",
   "execution_count": 37,
   "metadata": {},
   "outputs": [
    {
     "data": {
      "text/plain": [
       "tensor(4.8100e+15, grad_fn=<AddBackward0>)"
      ]
     },
     "execution_count": 37,
     "metadata": {},
     "output_type": "execute_result"
    }
   ],
   "source": []
  },
  {
   "cell_type": "code",
   "execution_count": 38,
   "metadata": {},
   "outputs": [
    {
     "data": {
      "text/plain": [
       "[tensor([[[ 589.4445, 1381.8385]]]),\n",
       " tensor([[[ 589.6328, 1381.6088]]]),\n",
       " tensor([[[ 589.3992, 1380.2305]]]),\n",
       " tensor([[[ 588.9202, 1380.0366]]]),\n",
       " tensor([[[ 579.9214, 1367.5590]]]),\n",
       " tensor([[[ 584.3655, 1377.3729]]]),\n",
       " tensor([[[ 596.6658, 1271.8363]]]),\n",
       " tensor([[[ 640.7068, 1356.7920]]]),\n",
       " tensor([[[597.8172, 894.6785]]]),\n",
       " tensor([[[ 828.4139, 1853.6736]]]),\n",
       " tensor([[[  226.0106, -1018.5403]]]),\n",
       " tensor([[[1994.9950, 6174.8740]]]),\n",
       " tensor([[[ -2903.6455, -13136.2568]]]),\n",
       " tensor([[[10917.8076, 36676.0664]]]),\n",
       " tensor([[[-29450.9258, -93312.3594]]]),\n",
       " tensor([[[ 86699.4688, 243709.0000]]]),\n",
       " tensor([[[-246646.8906, -628298.2500]]]),\n",
       " tensor([[[ 739073.2500, 1645480.5000]]]),\n",
       " tensor([[[-2385644.5000, -4320317.0000]]]),\n",
       " tensor([[[ 7071482., 11239530.]]]),\n",
       " tensor([[[-20403056., -27931576.]]])]"
      ]
     },
     "execution_count": 38,
     "metadata": {},
     "output_type": "execute_result"
    }
   ],
   "source": [
    "pred"
   ]
  },
  {
   "cell_type": "code",
   "execution_count": 39,
   "metadata": {},
   "outputs": [
    {
     "data": {
      "text/plain": [
       "[tensor([[[ 587.6106, 1381.2997]]]),\n",
       " tensor([[[ 587.6106, 1381.2997]]]),\n",
       " tensor([[[ 586.9632, 1380.9113]]]),\n",
       " tensor([[[ 586.6739, 1380.7225]]]),\n",
       " tensor([[[ 586.3462, 1380.4492]]]),\n",
       " tensor([[[ 585.7589, 1379.9354]]]),\n",
       " tensor([[[ 585.4659, 1379.6121]]]),\n",
       " tensor([[[ 584.9191, 1379.0210]]]),\n",
       " tensor([[[ 584.6808, 1378.6652]]]),\n",
       " tensor([[[ 584.3546, 1378.2303]]]),\n",
       " tensor([[[ 583.8191, 1377.5601]]]),\n",
       " tensor([[[ 583.6369, 1377.1196]]]),\n",
       " tensor([[[ 583.3925, 1376.6952]]]),\n",
       " tensor([[[ 582.9846, 1375.8479]]]),\n",
       " tensor([[[ 582.7881, 1375.3280]]]),\n",
       " tensor([[[ 582.6030, 1374.8840]]]),\n",
       " tensor([[[ 582.4222, 1374.3217]]]),\n",
       " tensor([[[ 582.2029, 1373.8376]]]),\n",
       " tensor([[[ 582.0811, 1373.3918]]]),\n",
       " tensor([[[ 581.8999, 1372.7820]]]),\n",
       " tensor([[[ 581.7318, 1372.3556]]])]"
      ]
     },
     "execution_count": 39,
     "metadata": {},
     "output_type": "execute_result"
    }
   ],
   "source": [
    "gt"
   ]
  },
  {
   "cell_type": "code",
   "execution_count": 31,
   "metadata": {
    "scrolled": true
   },
   "outputs": [
    {
     "data": {
      "text/plain": [
       "dict_keys([])"
      ]
     },
     "execution_count": 31,
     "metadata": {},
     "output_type": "execute_result"
    }
   ],
   "source": [
    "prediction_gt.keys()"
   ]
  }
 ],
 "metadata": {
  "anaconda-cloud": {},
  "kernelspec": {
   "display_name": "Python [conda env:py3] *",
   "language": "python",
   "name": "conda-env-py3-py"
  },
  "language_info": {
   "codemirror_mode": {
    "name": "ipython",
    "version": 3
   },
   "file_extension": ".py",
   "mimetype": "text/x-python",
   "name": "python",
   "nbconvert_exporter": "python",
   "pygments_lexer": "ipython3",
   "version": "3.7.2"
  }
 },
 "nbformat": 4,
 "nbformat_minor": 2
}
